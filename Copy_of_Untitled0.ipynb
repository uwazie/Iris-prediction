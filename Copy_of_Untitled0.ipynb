{
  "nbformat": 4,
  "nbformat_minor": 0,
  "metadata": {
    "accelerator": "TPU",
    "colab": {
      "name": "Copy of Untitled0.ipynb",
      "provenance": [],
      "collapsed_sections": [],
      "machine_shape": "hm",
      "mount_file_id": "1FjPeCkpTcYJDBp1jIjzSQo63z2lroBeT",
      "authorship_tag": "ABX9TyNwxgQYU+QIzQ2cOJSlL9Em",
      "include_colab_link": true
    },
    "kernelspec": {
      "display_name": "Python 3",
      "name": "python3"
    },
    "language_info": {
      "name": "python"
    }
  },
  "cells": [
    {
      "cell_type": "markdown",
      "metadata": {
        "id": "view-in-github",
        "colab_type": "text"
      },
      "source": [
        "<a href=\"https://colab.research.google.com/github/uwazie/Iris-prediction/blob/main/Copy_of_Untitled0.ipynb\" target=\"_parent\"><img src=\"https://colab.research.google.com/assets/colab-badge.svg\" alt=\"Open In Colab\"/></a>"
      ]
    },
    {
      "cell_type": "code",
      "metadata": {
        "id": "CuDbc5WA_s0q"
      },
      "source": [
        ""
      ],
      "execution_count": null,
      "outputs": []
    },
    {
      "cell_type": "code",
      "metadata": {
        "id": "DoZbU3y7LR0X"
      },
      "source": [
        "import pandas as pd"
      ],
      "execution_count": 1,
      "outputs": []
    },
    {
      "cell_type": "code",
      "metadata": {
        "colab": {
          "base_uri": "https://localhost:8080/"
        },
        "id": "3AuC7W_KBj26",
        "outputId": "05c0ebf0-743b-4f0e-d3c1-7a36c698cd7f"
      },
      "source": [
        "from google.colab import drive\n",
        "drive.mount('/content/drive')"
      ],
      "execution_count": 2,
      "outputs": [
        {
          "output_type": "stream",
          "name": "stdout",
          "text": [
            "Mounted at /content/drive\n"
          ]
        }
      ]
    },
    {
      "cell_type": "code",
      "metadata": {
        "colab": {
          "base_uri": "https://localhost:8080/"
        },
        "id": "NdaXxvSLhSxO",
        "outputId": "8461e187-2bde-48cd-d078-f8494b2060e8"
      },
      "source": [
        "from google.colab import drive\n",
        "drive.mount('/content/gdrive')"
      ],
      "execution_count": 3,
      "outputs": [
        {
          "output_type": "stream",
          "name": "stdout",
          "text": [
            "Mounted at /content/gdrive\n"
          ]
        }
      ]
    },
    {
      "cell_type": "code",
      "metadata": {
        "colab": {
          "base_uri": "https://localhost:8080/"
        },
        "id": "s2Z_gWpeKXaT",
        "outputId": "955ac311-cede-4765-b754-3015e27cc161"
      },
      "source": [
        "!ls gdrive/MyDrive"
      ],
      "execution_count": 4,
      "outputs": [
        {
          "output_type": "stream",
          "name": "stdout",
          "text": [
            " 02-14-2018.zip   02-23-2018.zip\t\t'Cyber Security Hero.docx'\n",
            " 02-15-2018.zip   02-28-2018.zip\t\t'Cyber Security Hero.jpg'\n",
            " 02-16-2018.zip   03-01-2018.zip\t\t'Data Science Hero.docx'\n",
            " 02-20-2018.zip   03-02-2018.zip\t\t'Internet of Things Hero.docx'\n",
            " 02-21-2018.zip  'APSSI Webinar July 2020.cdr'\t'NSUK ID.jpg'\n",
            " 02-22-2018.zip  'Colab Notebooks'\n"
          ]
        }
      ]
    },
    {
      "cell_type": "code",
      "metadata": {
        "colab": {
          "base_uri": "https://localhost:8080/"
        },
        "id": "RJ39kvqCKho_",
        "outputId": "d278ce86-2bf9-4bd5-9b5e-7bf563db9c12"
      },
      "source": [
        "!unzip gdrive/MyDrive/02-14-2018.zip"
      ],
      "execution_count": 5,
      "outputs": [
        {
          "output_type": "stream",
          "name": "stdout",
          "text": [
            "Archive:  gdrive/MyDrive/02-14-2018.zip\n",
            "  inflating: 02-14-2018.csv          \n"
          ]
        }
      ]
    },
    {
      "cell_type": "code",
      "metadata": {
        "colab": {
          "base_uri": "https://localhost:8080/"
        },
        "id": "91k-Wm0LKq-u",
        "outputId": "cf6bd238-5e41-4c0c-8479-692c1747a7e4"
      },
      "source": [
        "!unzip gdrive/MyDrive/02-15-2018.zip"
      ],
      "execution_count": 6,
      "outputs": [
        {
          "output_type": "stream",
          "name": "stdout",
          "text": [
            "Archive:  gdrive/MyDrive/02-15-2018.zip\n",
            "  inflating: 02-15-2018.csv          \n"
          ]
        }
      ]
    },
    {
      "cell_type": "code",
      "metadata": {
        "colab": {
          "base_uri": "https://localhost:8080/"
        },
        "id": "nDSSariMKzaF",
        "outputId": "cff0453c-1928-44d2-ee29-05b1408fa2b3"
      },
      "source": [
        "!unzip gdrive/MyDrive/02-16-2018.zip"
      ],
      "execution_count": 7,
      "outputs": [
        {
          "output_type": "stream",
          "name": "stdout",
          "text": [
            "Archive:  gdrive/MyDrive/02-16-2018.zip\n",
            "  inflating: 02-16-2018.csv          \n"
          ]
        }
      ]
    },
    {
      "cell_type": "code",
      "metadata": {
        "colab": {
          "base_uri": "https://localhost:8080/"
        },
        "id": "J1yGfYYyK3vi",
        "outputId": "0e09188b-ba50-4508-b378-64d124b97fe6"
      },
      "source": [
        "!unzip gdrive/MyDrive/02-20-2018.zip"
      ],
      "execution_count": null,
      "outputs": [
        {
          "name": "stdout",
          "output_type": "stream",
          "text": [
            "Archive:  gdrive/MyDrive/02-20-2018.zip\n",
            "  inflating: 02-20-2018.csv          \n"
          ]
        }
      ]
    },
    {
      "cell_type": "code",
      "metadata": {
        "colab": {
          "base_uri": "https://localhost:8080/"
        },
        "id": "N6CPUkqNLSeA",
        "outputId": "b9a42ee5-bad8-454b-f8a4-5421beb6abdf"
      },
      "source": [
        "!unzip gdrive/MyDrive/02-21-2018.zip"
      ],
      "execution_count": 8,
      "outputs": [
        {
          "output_type": "stream",
          "name": "stdout",
          "text": [
            "Archive:  gdrive/MyDrive/02-21-2018.zip\n",
            "  inflating: 02-21-2018.csv          \n"
          ]
        }
      ]
    },
    {
      "cell_type": "code",
      "metadata": {
        "colab": {
          "base_uri": "https://localhost:8080/"
        },
        "id": "8pt7KJeNLYlJ",
        "outputId": "d88ddd93-e536-4666-dbb5-f3f3c9c20cc8"
      },
      "source": [
        "!unzip gdrive/MyDrive/02-22-2018.zip"
      ],
      "execution_count": 9,
      "outputs": [
        {
          "output_type": "stream",
          "name": "stdout",
          "text": [
            "Archive:  gdrive/MyDrive/02-22-2018.zip\n",
            "  inflating: 02-22-2018.csv          \n"
          ]
        }
      ]
    },
    {
      "cell_type": "code",
      "metadata": {
        "colab": {
          "base_uri": "https://localhost:8080/"
        },
        "id": "5wWP6c7CLh_H",
        "outputId": "3cb9faac-c483-4ac1-b174-1c119c99d93c"
      },
      "source": [
        "!unzip gdrive/MyDrive/02-23-2018.zip"
      ],
      "execution_count": 10,
      "outputs": [
        {
          "output_type": "stream",
          "name": "stdout",
          "text": [
            "Archive:  gdrive/MyDrive/02-23-2018.zip\n",
            "  inflating: 02-23-2018.csv          \n"
          ]
        }
      ]
    },
    {
      "cell_type": "code",
      "metadata": {
        "colab": {
          "base_uri": "https://localhost:8080/"
        },
        "id": "AotFT0OmLobF",
        "outputId": "30ffaee9-54fb-4f09-edf0-c830c7fab19a"
      },
      "source": [
        "!unzip gdrive/MyDrive/02-28-2018.zip"
      ],
      "execution_count": 11,
      "outputs": [
        {
          "output_type": "stream",
          "name": "stdout",
          "text": [
            "Archive:  gdrive/MyDrive/02-28-2018.zip\n",
            "  inflating: 02-28-2018.csv          \n"
          ]
        }
      ]
    },
    {
      "cell_type": "code",
      "metadata": {
        "colab": {
          "base_uri": "https://localhost:8080/"
        },
        "id": "XN0QDOOxLvbN",
        "outputId": "fe9960a0-bcf5-4695-dc47-2cd99e48960d"
      },
      "source": [
        "!unzip gdrive/MyDrive/03-01-2018.zip"
      ],
      "execution_count": 12,
      "outputs": [
        {
          "output_type": "stream",
          "name": "stdout",
          "text": [
            "Archive:  gdrive/MyDrive/03-01-2018.zip\n",
            "  inflating: 03-01-2018.csv          \n"
          ]
        }
      ]
    },
    {
      "cell_type": "code",
      "metadata": {
        "colab": {
          "base_uri": "https://localhost:8080/"
        },
        "id": "e9GuVv1LL24D",
        "outputId": "88a1309f-1917-4319-8a65-10710332ea2d"
      },
      "source": [
        "!unzip gdrive/MyDrive/03-02-2018.zip"
      ],
      "execution_count": 13,
      "outputs": [
        {
          "output_type": "stream",
          "name": "stdout",
          "text": [
            "Archive:  gdrive/MyDrive/03-02-2018.zip\n",
            "  inflating: 03-02-2018.csv          \n"
          ]
        }
      ]
    },
    {
      "cell_type": "code",
      "metadata": {
        "id": "pybMbglzMAzn"
      },
      "source": [
        "Bot=pd.read_csv(r\"gdrive/MyDrive/03-02-2018.zip\")\n",
        "BruteForce=pd.read_csv(r\"gdrive/MyDrive/02-14-2018.zip\")\n",
        "DDoS=pd.read_csv(r\"gdrive/MyDrive/02-21-2018.zip\")\n",
        "DoS=pd.read_csv(r\"gdrive/MyDrive/02-15-2018.zip\")\n",
        "DoS1=pd.read_csv(r\"gdrive/MyDrive/02-16-2018.zip\")\n",
        "Infiltration=pd.read_csv(r\"gdrive/MyDrive/02-28-2018.zip\")\n",
        "Infiltration1=pd.read_csv(r\"gdrive/MyDrive/03-01-2018.zip\")\n",
        "SQL1=pd.read_csv(r\"gdrive/MyDrive/02-23-2018.zip\")\n",
        "SQL=pd.read_csv(r\"gdrive/MyDrive/02-22-2018.zip\")\n",
        "#Benign=pd.read_csv(\"gdrive/MyDrive/02-20-2018.zip\")"
      ],
      "execution_count": 14,
      "outputs": []
    },
    {
      "cell_type": "code",
      "metadata": {
        "id": "b34xlh4tOyma"
      },
      "source": [
        "AllAttacks=pd.concat([Bot,BruteForce,DDoS,DoS,DoS1,Infiltration,Infiltration1,SQL1,SQL],ignore_index=True)"
      ],
      "execution_count": 16,
      "outputs": []
    },
    {
      "cell_type": "code",
      "metadata": {
        "colab": {
          "base_uri": "https://localhost:8080/"
        },
        "id": "bJ4ZJtbnySv_",
        "outputId": "d1cb91d7-9f9b-43fd-c306-2df6d1d634bc"
      },
      "source": [
        "AllAttacks.info()"
      ],
      "execution_count": 17,
      "outputs": [
        {
          "output_type": "stream",
          "name": "stdout",
          "text": [
            "<class 'pandas.core.frame.DataFrame'>\n",
            "RangeIndex: 8284195 entries, 0 to 8284194\n",
            "Data columns (total 80 columns):\n",
            " #   Column             Dtype  \n",
            "---  ------             -----  \n",
            " 0   Dst Port           int64  \n",
            " 1   Protocol           int64  \n",
            " 2   Timestamp          object \n",
            " 3   Flow Duration      int64  \n",
            " 4   Tot Fwd Pkts       int64  \n",
            " 5   Tot Bwd Pkts       int64  \n",
            " 6   TotLen Fwd Pkts    int64  \n",
            " 7   TotLen Bwd Pkts    float64\n",
            " 8   Fwd Pkt Len Max    int64  \n",
            " 9   Fwd Pkt Len Min    int64  \n",
            " 10  Fwd Pkt Len Mean   float64\n",
            " 11  Fwd Pkt Len Std    float64\n",
            " 12  Bwd Pkt Len Max    int64  \n",
            " 13  Bwd Pkt Len Min    int64  \n",
            " 14  Bwd Pkt Len Mean   float64\n",
            " 15  Bwd Pkt Len Std    float64\n",
            " 16  Flow Byts/s        float64\n",
            " 17  Flow Pkts/s        float64\n",
            " 18  Flow IAT Mean      float64\n",
            " 19  Flow IAT Std       float64\n",
            " 20  Flow IAT Max       float64\n",
            " 21  Flow IAT Min       float64\n",
            " 22  Fwd IAT Tot        float64\n",
            " 23  Fwd IAT Mean       float64\n",
            " 24  Fwd IAT Std        float64\n",
            " 25  Fwd IAT Max        float64\n",
            " 26  Fwd IAT Min        float64\n",
            " 27  Bwd IAT Tot        float64\n",
            " 28  Bwd IAT Mean       float64\n",
            " 29  Bwd IAT Std        float64\n",
            " 30  Bwd IAT Max        float64\n",
            " 31  Bwd IAT Min        float64\n",
            " 32  Fwd PSH Flags      int64  \n",
            " 33  Bwd PSH Flags      int64  \n",
            " 34  Fwd URG Flags      int64  \n",
            " 35  Bwd URG Flags      int64  \n",
            " 36  Fwd Header Len     int64  \n",
            " 37  Bwd Header Len     int64  \n",
            " 38  Fwd Pkts/s         float64\n",
            " 39  Bwd Pkts/s         float64\n",
            " 40  Pkt Len Min        int64  \n",
            " 41  Pkt Len Max        int64  \n",
            " 42  Pkt Len Mean       float64\n",
            " 43  Pkt Len Std        float64\n",
            " 44  Pkt Len Var        float64\n",
            " 45  FIN Flag Cnt       int64  \n",
            " 46  SYN Flag Cnt       int64  \n",
            " 47  RST Flag Cnt       int64  \n",
            " 48  PSH Flag Cnt       int64  \n",
            " 49  ACK Flag Cnt       int64  \n",
            " 50  URG Flag Cnt       int64  \n",
            " 51  CWE Flag Count     int64  \n",
            " 52  ECE Flag Cnt       int64  \n",
            " 53  Down/Up Ratio      int64  \n",
            " 54  Pkt Size Avg       float64\n",
            " 55  Fwd Seg Size Avg   float64\n",
            " 56  Bwd Seg Size Avg   float64\n",
            " 57  Fwd Byts/b Avg     int64  \n",
            " 58  Fwd Pkts/b Avg     int64  \n",
            " 59  Fwd Blk Rate Avg   int64  \n",
            " 60  Bwd Byts/b Avg     int64  \n",
            " 61  Bwd Pkts/b Avg     int64  \n",
            " 62  Bwd Blk Rate Avg   int64  \n",
            " 63  Subflow Fwd Pkts   int64  \n",
            " 64  Subflow Fwd Byts   int64  \n",
            " 65  Subflow Bwd Pkts   int64  \n",
            " 66  Subflow Bwd Byts   int64  \n",
            " 67  Init Fwd Win Byts  int64  \n",
            " 68  Init Bwd Win Byts  int64  \n",
            " 69  Fwd Act Data Pkts  int64  \n",
            " 70  Fwd Seg Size Min   int64  \n",
            " 71  Active Mean        float64\n",
            " 72  Active Std         float64\n",
            " 73  Active Max         float64\n",
            " 74  Active Min         float64\n",
            " 75  Idle Mean          float64\n",
            " 76  Idle Std           float64\n",
            " 77  Idle Max           float64\n",
            " 78  Idle Min           float64\n",
            " 79  Label              object \n",
            "dtypes: float64(37), int64(41), object(2)\n",
            "memory usage: 4.9+ GB\n"
          ]
        }
      ]
    },
    {
      "cell_type": "code",
      "metadata": {
        "colab": {
          "base_uri": "https://localhost:8080/"
        },
        "id": "GS37h_f8KHBY",
        "outputId": "9814f041-0aa4-4ca7-a976-5481790754b7"
      },
      "source": [
        "AllAttacks['Label'].value_counts()"
      ],
      "execution_count": 18,
      "outputs": [
        {
          "output_type": "execute_result",
          "data": {
            "text/plain": [
              "Benign                      6112151\n",
              "DDOS attack-HOIC             686012\n",
              "DoS attacks-Hulk             461912\n",
              "Bot                          286191\n",
              "FTP-BruteForce               193360\n",
              "SSH-Bruteforce               187589\n",
              "Infilteration                161934\n",
              "DoS attacks-SlowHTTPTest     139890\n",
              "DoS attacks-GoldenEye         41508\n",
              "DoS attacks-Slowloris         10990\n",
              "DDOS attack-LOIC-UDP           1730\n",
              "Brute Force -Web                611\n",
              "Brute Force -XSS                230\n",
              "SQL Injection                    87\n",
              "Name: Label, dtype: int64"
            ]
          },
          "metadata": {},
          "execution_count": 18
        }
      ]
    },
    {
      "cell_type": "code",
      "metadata": {
        "id": "GI31U8EOL29X"
      },
      "source": [
        ""
      ],
      "execution_count": null,
      "outputs": []
    },
    {
      "cell_type": "code",
      "metadata": {
        "colab": {
          "base_uri": "https://localhost:8080/"
        },
        "id": "KBo6kTPoK535",
        "outputId": "1f544998-7756-4064-a5b4-17051c0319e7"
      },
      "source": [
        "null_columns=AllAttacks.columns[AllAttacks.isnull().any()]\n",
        "AllAttacks[null_columns].isnull().sum()"
      ],
      "execution_count": 19,
      "outputs": [
        {
          "output_type": "execute_result",
          "data": {
            "text/plain": [
              "Flow Byts/s    22954\n",
              "dtype: int64"
            ]
          },
          "metadata": {},
          "execution_count": 19
        }
      ]
    },
    {
      "cell_type": "code",
      "metadata": {
        "colab": {
          "base_uri": "https://localhost:8080/"
        },
        "id": "Z3-yHnDHCayA",
        "outputId": "d977a7eb-899f-4688-a2fd-59123d14fc1f"
      },
      "source": [
        "Nullvalues=AllAttacks[AllAttacks.isnull().any(1)]\n",
        "Nullvalues['Label'].value_counts()\n"
      ],
      "execution_count": 20,
      "outputs": [
        {
          "output_type": "execute_result",
          "data": {
            "text/plain": [
              "Benign            22110\n",
              "Infilteration       838\n",
              "FTP-BruteForce        6\n",
              "Name: Label, dtype: int64"
            ]
          },
          "metadata": {},
          "execution_count": 20
        }
      ]
    },
    {
      "cell_type": "code",
      "metadata": {
        "id": "KCvjlJSLDtr-"
      },
      "source": [
        "AllAttacks=AllAttacks.dropna(axis=0, how='any')"
      ],
      "execution_count": 21,
      "outputs": []
    },
    {
      "cell_type": "code",
      "metadata": {
        "colab": {
          "base_uri": "https://localhost:8080/"
        },
        "id": "YrcdzB6RD4OB",
        "outputId": "a85d8b60-f086-4332-d91e-9a309d13aed9"
      },
      "source": [
        "AllAttacks['Label'].value_counts()"
      ],
      "execution_count": 22,
      "outputs": [
        {
          "output_type": "execute_result",
          "data": {
            "text/plain": [
              "Benign                      6090041\n",
              "DDOS attack-HOIC             686012\n",
              "DoS attacks-Hulk             461912\n",
              "Bot                          286191\n",
              "FTP-BruteForce               193354\n",
              "SSH-Bruteforce               187589\n",
              "Infilteration                161096\n",
              "DoS attacks-SlowHTTPTest     139890\n",
              "DoS attacks-GoldenEye         41508\n",
              "DoS attacks-Slowloris         10990\n",
              "DDOS attack-LOIC-UDP           1730\n",
              "Brute Force -Web                611\n",
              "Brute Force -XSS                230\n",
              "SQL Injection                    87\n",
              "Name: Label, dtype: int64"
            ]
          },
          "metadata": {},
          "execution_count": 22
        }
      ]
    },
    {
      "cell_type": "code",
      "metadata": {
        "colab": {
          "base_uri": "https://localhost:8080/"
        },
        "id": "2hwV3Px6EQEQ",
        "outputId": "b0cd12ac-cb57-4bba-8c3d-0ea9985a4f3e"
      },
      "source": [
        "zero_cols = [col for col, is_zero in ((AllAttacks == 0).sum() == AllAttacks.shape[0]).items() if is_zero]\n",
        "zero_cols"
      ],
      "execution_count": 23,
      "outputs": [
        {
          "output_type": "execute_result",
          "data": {
            "text/plain": [
              "['Bwd PSH Flags',\n",
              " 'Bwd URG Flags',\n",
              " 'Fwd Byts/b Avg',\n",
              " 'Fwd Pkts/b Avg',\n",
              " 'Fwd Blk Rate Avg',\n",
              " 'Bwd Byts/b Avg',\n",
              " 'Bwd Pkts/b Avg',\n",
              " 'Bwd Blk Rate Avg']"
            ]
          },
          "metadata": {},
          "execution_count": 23
        }
      ]
    },
    {
      "cell_type": "code",
      "metadata": {
        "id": "xxMkXc0OhLNS"
      },
      "source": [
        "AllAttacks.drop(zero_cols, axis=1, inplace=True)"
      ],
      "execution_count": 24,
      "outputs": []
    },
    {
      "cell_type": "code",
      "metadata": {
        "colab": {
          "base_uri": "https://localhost:8080/"
        },
        "id": "ug2ijEuziLXm",
        "outputId": "10b8158a-e29e-4fe9-c4e5-0a654215c56a"
      },
      "source": [
        "AllAttacks.info()"
      ],
      "execution_count": 25,
      "outputs": [
        {
          "output_type": "stream",
          "name": "stdout",
          "text": [
            "<class 'pandas.core.frame.DataFrame'>\n",
            "Int64Index: 8261241 entries, 0 to 8284194\n",
            "Data columns (total 72 columns):\n",
            " #   Column             Dtype  \n",
            "---  ------             -----  \n",
            " 0   Dst Port           int64  \n",
            " 1   Protocol           int64  \n",
            " 2   Timestamp          object \n",
            " 3   Flow Duration      int64  \n",
            " 4   Tot Fwd Pkts       int64  \n",
            " 5   Tot Bwd Pkts       int64  \n",
            " 6   TotLen Fwd Pkts    int64  \n",
            " 7   TotLen Bwd Pkts    float64\n",
            " 8   Fwd Pkt Len Max    int64  \n",
            " 9   Fwd Pkt Len Min    int64  \n",
            " 10  Fwd Pkt Len Mean   float64\n",
            " 11  Fwd Pkt Len Std    float64\n",
            " 12  Bwd Pkt Len Max    int64  \n",
            " 13  Bwd Pkt Len Min    int64  \n",
            " 14  Bwd Pkt Len Mean   float64\n",
            " 15  Bwd Pkt Len Std    float64\n",
            " 16  Flow Byts/s        float64\n",
            " 17  Flow Pkts/s        float64\n",
            " 18  Flow IAT Mean      float64\n",
            " 19  Flow IAT Std       float64\n",
            " 20  Flow IAT Max       float64\n",
            " 21  Flow IAT Min       float64\n",
            " 22  Fwd IAT Tot        float64\n",
            " 23  Fwd IAT Mean       float64\n",
            " 24  Fwd IAT Std        float64\n",
            " 25  Fwd IAT Max        float64\n",
            " 26  Fwd IAT Min        float64\n",
            " 27  Bwd IAT Tot        float64\n",
            " 28  Bwd IAT Mean       float64\n",
            " 29  Bwd IAT Std        float64\n",
            " 30  Bwd IAT Max        float64\n",
            " 31  Bwd IAT Min        float64\n",
            " 32  Fwd PSH Flags      int64  \n",
            " 33  Fwd URG Flags      int64  \n",
            " 34  Fwd Header Len     int64  \n",
            " 35  Bwd Header Len     int64  \n",
            " 36  Fwd Pkts/s         float64\n",
            " 37  Bwd Pkts/s         float64\n",
            " 38  Pkt Len Min        int64  \n",
            " 39  Pkt Len Max        int64  \n",
            " 40  Pkt Len Mean       float64\n",
            " 41  Pkt Len Std        float64\n",
            " 42  Pkt Len Var        float64\n",
            " 43  FIN Flag Cnt       int64  \n",
            " 44  SYN Flag Cnt       int64  \n",
            " 45  RST Flag Cnt       int64  \n",
            " 46  PSH Flag Cnt       int64  \n",
            " 47  ACK Flag Cnt       int64  \n",
            " 48  URG Flag Cnt       int64  \n",
            " 49  CWE Flag Count     int64  \n",
            " 50  ECE Flag Cnt       int64  \n",
            " 51  Down/Up Ratio      int64  \n",
            " 52  Pkt Size Avg       float64\n",
            " 53  Fwd Seg Size Avg   float64\n",
            " 54  Bwd Seg Size Avg   float64\n",
            " 55  Subflow Fwd Pkts   int64  \n",
            " 56  Subflow Fwd Byts   int64  \n",
            " 57  Subflow Bwd Pkts   int64  \n",
            " 58  Subflow Bwd Byts   int64  \n",
            " 59  Init Fwd Win Byts  int64  \n",
            " 60  Init Bwd Win Byts  int64  \n",
            " 61  Fwd Act Data Pkts  int64  \n",
            " 62  Fwd Seg Size Min   int64  \n",
            " 63  Active Mean        float64\n",
            " 64  Active Std         float64\n",
            " 65  Active Max         float64\n",
            " 66  Active Min         float64\n",
            " 67  Idle Mean          float64\n",
            " 68  Idle Std           float64\n",
            " 69  Idle Max           float64\n",
            " 70  Idle Min           float64\n",
            " 71  Label              object \n",
            "dtypes: float64(37), int64(33), object(2)\n",
            "memory usage: 4.5+ GB\n"
          ]
        }
      ]
    },
    {
      "cell_type": "code",
      "metadata": {
        "id": "9yG8fqaJi7Jo"
      },
      "source": [
        "AllAttacks.drop('Timestamp', axis=1, inplace=True)"
      ],
      "execution_count": 26,
      "outputs": []
    },
    {
      "cell_type": "code",
      "metadata": {
        "id": "1YZ7yg7BjP8f"
      },
      "source": [
        "AllAttacks[\"Label\"].replace({\"Benign\": 7, \"Bot\": 4, \"FTP-BruteForce\": 3, \"SSH-Bruteforce\": 3, \"DDOS attack-HOIC\": 1, \"DDOS attack-LOIC-UDP\": 1, \"DoS attacks-Hulk\": 2, \"DoS attacks-SlowHTTPTest\": 2, \"DoS attacks-Slowloris\": 2, \"DoS attacks-GoldenEye\": 2, \"Infilteration\": 5, \"Brute Force -Web\": 6, \"Brute Force -XSS\": 6, \"SQL Injection\": 6}, inplace=True)"
      ],
      "execution_count": 74,
      "outputs": []
    },
    {
      "cell_type": "code",
      "metadata": {
        "id": "3TSNjyrSttzP"
      },
      "source": [
        ""
      ],
      "execution_count": null,
      "outputs": []
    },
    {
      "cell_type": "code",
      "metadata": {
        "id": "pmOtvGU8kBwB"
      },
      "source": [
        "x, y = AllAttacks.iloc[:, :-1], AllAttacks.iloc[:, [-1]]"
      ],
      "execution_count": 75,
      "outputs": []
    },
    {
      "cell_type": "code",
      "metadata": {
        "id": "USgdlHJijooD"
      },
      "source": [
        "import numpy as np"
      ],
      "execution_count": 56,
      "outputs": []
    },
    {
      "cell_type": "code",
      "metadata": {
        "colab": {
          "base_uri": "https://localhost:8080/"
        },
        "id": "aPh3qIEnkhat",
        "outputId": "a726c378-78cc-41cb-f06c-9e6bf940d1de"
      },
      "source": [
        "np. any(np.isnan(x))"
      ],
      "execution_count": 57,
      "outputs": [
        {
          "output_type": "execute_result",
          "data": {
            "text/plain": [
              "False"
            ]
          },
          "metadata": {},
          "execution_count": 57
        }
      ]
    },
    {
      "cell_type": "code",
      "metadata": {
        "id": "zLh0C5iRmHNT"
      },
      "source": [
        "#@title Default title text\n"
      ],
      "execution_count": null,
      "outputs": []
    },
    {
      "cell_type": "code",
      "metadata": {
        "colab": {
          "base_uri": "https://localhost:8080/"
        },
        "id": "zePTHXVZmIMH",
        "outputId": "1075664f-1b8f-4949-ab0c-0eb29c1acd44"
      },
      "source": [
        "np. all(np.isfinite(x))"
      ],
      "execution_count": 58,
      "outputs": [
        {
          "output_type": "execute_result",
          "data": {
            "text/plain": [
              "False"
            ]
          },
          "metadata": {},
          "execution_count": 58
        }
      ]
    },
    {
      "cell_type": "code",
      "metadata": {
        "colab": {
          "base_uri": "https://localhost:8080/"
        },
        "id": "Kh6CnQ6Woa-t",
        "outputId": "99d2bf66-e095-4c8e-aec8-ea283eba2577"
      },
      "source": [
        "np.where(np.isinf(x))"
      ],
      "execution_count": 59,
      "outputs": [
        {
          "output_type": "execute_result",
          "data": {
            "text/plain": [
              "(array([    145,     145,     230, ..., 8253385, 8253388, 8253388]),\n",
              " array([15, 16, 15, ..., 16, 15, 16]))"
            ]
          },
          "metadata": {},
          "execution_count": 59
        }
      ]
    },
    {
      "cell_type": "code",
      "metadata": {
        "id": "5Ii_UtWbpC0w"
      },
      "source": [
        "x[x==np.inf]=np.nan\n",
        "x.fillna(x.mean(), inplace=True)"
      ],
      "execution_count": 76,
      "outputs": []
    },
    {
      "cell_type": "code",
      "metadata": {
        "colab": {
          "base_uri": "https://localhost:8080/"
        },
        "id": "QYntSPM2pJMX",
        "outputId": "63d303a2-dc1a-4c31-b449-45f23cfbe283"
      },
      "source": [
        "np. all(np.isfinite(x))"
      ],
      "execution_count": 61,
      "outputs": [
        {
          "output_type": "execute_result",
          "data": {
            "text/plain": [
              "True"
            ]
          },
          "metadata": {},
          "execution_count": 61
        }
      ]
    },
    {
      "cell_type": "code",
      "metadata": {
        "colab": {
          "base_uri": "https://localhost:8080/"
        },
        "id": "0ADjN8Tapq9v",
        "outputId": "1e03f120-d462-4c1e-914c-4f99c6076611"
      },
      "source": [
        "np. any(np.isnan(y))"
      ],
      "execution_count": 78,
      "outputs": [
        {
          "output_type": "execute_result",
          "data": {
            "text/plain": [
              "False"
            ]
          },
          "metadata": {},
          "execution_count": 78
        }
      ]
    },
    {
      "cell_type": "code",
      "metadata": {
        "colab": {
          "base_uri": "https://localhost:8080/"
        },
        "id": "VAgM-X0cxfgV",
        "outputId": "df44f247-da0b-40c7-9fe7-5c8f93520f9e"
      },
      "source": [
        "np. all(np.isfinite(y))"
      ],
      "execution_count": 79,
      "outputs": [
        {
          "output_type": "execute_result",
          "data": {
            "text/plain": [
              "True"
            ]
          },
          "metadata": {},
          "execution_count": 79
        }
      ]
    },
    {
      "cell_type": "code",
      "metadata": {
        "id": "286BgPFBxg2_"
      },
      "source": [
        ""
      ],
      "execution_count": null,
      "outputs": []
    },
    {
      "cell_type": "code",
      "metadata": {
        "colab": {
          "base_uri": "https://localhost:8080/"
        },
        "id": "ZhUDtx4Ep4Nx",
        "outputId": "dd3674a4-fc02-4f53-9296-611e7cdff759"
      },
      "source": [
        "y.info()"
      ],
      "execution_count": 63,
      "outputs": [
        {
          "output_type": "stream",
          "name": "stdout",
          "text": [
            "<class 'pandas.core.frame.DataFrame'>\n",
            "Int64Index: 8261241 entries, 0 to 8284194\n",
            "Data columns (total 1 columns):\n",
            " #   Column  Dtype \n",
            "---  ------  ----- \n",
            " 0   Label   object\n",
            "dtypes: object(1)\n",
            "memory usage: 126.1+ MB\n"
          ]
        }
      ]
    },
    {
      "cell_type": "code",
      "metadata": {
        "colab": {
          "base_uri": "https://localhost:8080/"
        },
        "id": "jTXRDckbqksY",
        "outputId": "75f29f19-0b3a-4be1-ebff-9a72d46284db"
      },
      "source": [
        "y[\"Label\"]=y[\"Label\"].replace({'$',''}, regex=True).astype(int)"
      ],
      "execution_count": 77,
      "outputs": [
        {
          "output_type": "stream",
          "name": "stderr",
          "text": [
            "/usr/local/lib/python3.7/dist-packages/ipykernel_launcher.py:1: SettingWithCopyWarning: \n",
            "A value is trying to be set on a copy of a slice from a DataFrame.\n",
            "Try using .loc[row_indexer,col_indexer] = value instead\n",
            "\n",
            "See the caveats in the documentation: https://pandas.pydata.org/pandas-docs/stable/user_guide/indexing.html#returning-a-view-versus-a-copy\n",
            "  \"\"\"Entry point for launching an IPython kernel.\n"
          ]
        }
      ]
    },
    {
      "cell_type": "code",
      "metadata": {
        "id": "haYfGXK3yWc-"
      },
      "source": [
        "from sklearn.ensemble import RandomForestClassifier"
      ],
      "execution_count": 81,
      "outputs": []
    },
    {
      "cell_type": "code",
      "metadata": {
        "id": "xjjMsZc7y0TS"
      },
      "source": [
        "RF = RandomForestClassifier(random_state=0, n_jobs=-1)"
      ],
      "execution_count": 82,
      "outputs": []
    },
    {
      "cell_type": "code",
      "metadata": {
        "colab": {
          "base_uri": "https://localhost:8080/",
          "height": 163
        },
        "id": "ZG0AuA_MzA3Y",
        "outputId": "853c2917-60db-4630-abbc-da188fc6818f"
      },
      "source": [
        "RFmodel=RF.fit(x,y)"
      ],
      "execution_count": 1,
      "outputs": [
        {
          "output_type": "error",
          "ename": "NameError",
          "evalue": "ignored",
          "traceback": [
            "\u001b[0;31m---------------------------------------------------------------------------\u001b[0m",
            "\u001b[0;31mNameError\u001b[0m                                 Traceback (most recent call last)",
            "\u001b[0;32m<ipython-input-1-36a7ade84072>\u001b[0m in \u001b[0;36m<module>\u001b[0;34m()\u001b[0m\n\u001b[0;32m----> 1\u001b[0;31m \u001b[0mRFmodel\u001b[0m\u001b[0;34m=\u001b[0m\u001b[0mRF\u001b[0m\u001b[0;34m.\u001b[0m\u001b[0mfit\u001b[0m\u001b[0;34m(\u001b[0m\u001b[0mx\u001b[0m\u001b[0;34m,\u001b[0m\u001b[0my\u001b[0m\u001b[0;34m)\u001b[0m\u001b[0;34m\u001b[0m\u001b[0;34m\u001b[0m\u001b[0m\n\u001b[0m",
            "\u001b[0;31mNameError\u001b[0m: name 'RF' is not defined"
          ]
        }
      ]
    }
  ]
}